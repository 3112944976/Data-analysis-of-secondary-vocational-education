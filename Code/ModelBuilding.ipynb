{
 "cells": [
  {
   "cell_type": "markdown",
   "metadata": {},
   "source": [
    "## 创建SparkSession对象"
   ]
  },
  {
   "cell_type": "code",
   "execution_count": 1,
   "metadata": {
    "ExecuteTime": {
     "end_time": "2022-06-01T07:18:39.505557Z",
     "start_time": "2022-06-01T07:18:29.613744Z"
    }
   },
   "outputs": [],
   "source": [
    "from pyspark.sql import SparkSession\n",
    "saprk = SparkSession.builder.appName('ModelBuilding').getOrCreate()"
   ]
  },
  {
   "cell_type": "markdown",
   "metadata": {},
   "source": [
    "## 读取数据集"
   ]
  },
  {
   "cell_type": "code",
   "execution_count": 2,
   "metadata": {
    "ExecuteTime": {
     "end_time": "2022-06-01T07:18:51.367739Z",
     "start_time": "2022-06-01T07:18:40.650146Z"
    }
   },
   "outputs": [],
   "source": [
    "df = saprk.read.csv(\"hdfs://master:9000/home/hadoop/data/edu/GeneralData.csv\", inferSchema=True, header = True)"
   ]
  },
  {
   "cell_type": "markdown",
   "metadata": {},
   "source": [
    "## 数据描述性分析"
   ]
  },
  {
   "cell_type": "code",
   "execution_count": 3,
   "metadata": {
    "ExecuteTime": {
     "end_time": "2022-06-01T07:18:53.047493Z",
     "start_time": "2022-06-01T07:18:53.004631Z"
    }
   },
   "outputs": [
    {
     "name": "stdout",
     "output_type": "stream",
     "text": [
      "root\n",
      " |-- _c0: integer (nullable = true)\n",
      " |-- 年份: integer (nullable = true)\n",
      " |-- 招生数: double (nullable = true)\n",
      " |-- 在校学生数: double (nullable = true)\n",
      " |-- 毕业生数: double (nullable = true)\n",
      " |-- 获得职业资格证书毕业生数: double (nullable = true)\n",
      " |-- 预计毕业生数: double (nullable = true)\n",
      " |-- 教职工总数: double (nullable = true)\n",
      " |-- 专任教师数: double (nullable = true)\n",
      " |-- 普通中等专业学校数: double (nullable = true)\n",
      " |-- 成人中等专业学校数: double (nullable = true)\n",
      "\n"
     ]
    }
   ],
   "source": [
    "df.printSchema()"
   ]
  },
  {
   "cell_type": "code",
   "execution_count": 4,
   "metadata": {
    "ExecuteTime": {
     "end_time": "2022-06-01T07:19:00.657217Z",
     "start_time": "2022-06-01T07:18:56.066552Z"
    }
   },
   "outputs": [
    {
     "name": "stdout",
     "output_type": "stream",
     "text": [
      "+-------+------------------+------------------+------------------+------------------+-----------------+------------------------+-----------------+-----------------+------------------+------------------+------------------+\n",
      "|summary|_c0               |年份              |招生数            |在校学生数        |毕业生数         |获得职业资格证书毕业生数|预计毕业生数     |教职工总数       |专任教师数        |普通中等专业学校数|成人中等专业学校数|\n",
      "+-------+------------------+------------------+------------------+------------------+-----------------+------------------------+-----------------+-----------------+------------------+------------------+------------------+\n",
      "|count  |13                |13                |13                |13                |13               |13                      |13               |13               |13                |13                |13                |\n",
      "|mean   |6.0               |2014.0            |548.085323076923  |1481.9263923076921|476.1026615384616|335.42013076923075      |483.6312846153846|87.65639999999999|66.19698461538462 |3557.4615384615386|1433.2307692307693|\n",
      "|stddev |3.8944404818493075|3.8944404818493075|102.77999331565098|238.71602072798908|65.73506261594771|50.36426239928444       |74.06665660352668|6.875577915952472|1.9114623598378562|224.45660879281155|318.7452362640509 |\n",
      "+-------+------------------+------------------+------------------+------------------+-----------------+------------------------+-----------------+-----------------+------------------+------------------+------------------+\n",
      "only showing top 3 rows\n",
      "\n"
     ]
    }
   ],
   "source": [
    "df.describe().show(3, False)###False 是否全部显示 False 不隐藏"
   ]
  },
  {
   "cell_type": "markdown",
   "metadata": {},
   "source": [
    "## 特征关联性分析"
   ]
  },
  {
   "cell_type": "code",
   "execution_count": 5,
   "metadata": {
    "ExecuteTime": {
     "end_time": "2022-06-01T07:19:06.545357Z",
     "start_time": "2022-06-01T07:19:02.850578Z"
    }
   },
   "outputs": [
    {
     "name": "stdout",
     "output_type": "stream",
     "text": [
      "+------------------------+\n",
      "|corr(专任教师数, 招生数)|\n",
      "+------------------------+\n",
      "|      0.9103651820014628|\n",
      "+------------------------+\n",
      "\n",
      "+------------------------+\n",
      "|corr(教职工总数, 招生数)|\n",
      "+------------------------+\n",
      "|      0.9635610737014085|\n",
      "+------------------------+\n",
      "\n",
      "+--------------------------------+\n",
      "|corr(普通中等专业学校数, 招生数)|\n",
      "+--------------------------------+\n",
      "|              0.9514088239921596|\n",
      "+--------------------------------+\n",
      "\n",
      "+--------------------------------+\n",
      "|corr(成人中等专业学校数, 招生数)|\n",
      "+--------------------------------+\n",
      "|              0.8904020920770594|\n",
      "+--------------------------------+\n",
      "\n",
      "+------------------------+\n",
      "|corr(在校学生数, 招生数)|\n",
      "+------------------------+\n",
      "|      0.9722661752850992|\n",
      "+------------------------+\n",
      "\n",
      "+----------------------+\n",
      "|corr(毕业生数, 招生数)|\n",
      "+----------------------+\n",
      "|    0.6948556482451111|\n",
      "+----------------------+\n",
      "\n",
      "+--------------------------+\n",
      "|corr(预计毕业生数, 招生数)|\n",
      "+--------------------------+\n",
      "|        0.8741069809057641|\n",
      "+--------------------------+\n",
      "\n",
      "+--------------------------------------+\n",
      "|corr(获得职业资格证书毕业生数, 招生数)|\n",
      "+--------------------------------------+\n",
      "|                  -0.01451961161213...|\n",
      "+--------------------------------------+\n",
      "\n"
     ]
    }
   ],
   "source": [
    "# 使用corr函数检查输入和输出变量之间的相互关系\n",
    "from pyspark.sql.functions import corr\n",
    "\n",
    "df.select(corr('专任教师数','招生数')).show()\n",
    "df.select(corr('教职工总数','招生数')).show()\n",
    "df.select(corr('普通中等专业学校数','招生数')).show()\n",
    "df.select(corr('成人中等专业学校数','招生数')).show()\n",
    "df.select(corr('在校学生数','招生数')).show()\n",
    "df.select(corr('毕业生数','招生数')).show()\n",
    "df.select(corr('预计毕业生数','招生数')).show()\n",
    "df.select(corr('获得职业资格证书毕业生数','招生数')).show()"
   ]
  },
  {
   "cell_type": "markdown",
   "metadata": {},
   "source": [
    "## 特征工程\n",
    "- VectorAssembler合并所有输入特征，输出单个特征向量化。"
   ]
  },
  {
   "cell_type": "code",
   "execution_count": 6,
   "metadata": {
    "ExecuteTime": {
     "end_time": "2022-06-01T07:19:14.707343Z",
     "start_time": "2022-06-01T07:19:14.233878Z"
    }
   },
   "outputs": [
    {
     "name": "stdout",
     "output_type": "stream",
     "text": [
      "root\n",
      " |-- _c0: integer (nullable = true)\n",
      " |-- 年份: integer (nullable = true)\n",
      " |-- 招生数: double (nullable = true)\n",
      " |-- 在校学生数: double (nullable = true)\n",
      " |-- 毕业生数: double (nullable = true)\n",
      " |-- 获得职业资格证书毕业生数: double (nullable = true)\n",
      " |-- 预计毕业生数: double (nullable = true)\n",
      " |-- 教职工总数: double (nullable = true)\n",
      " |-- 专任教师数: double (nullable = true)\n",
      " |-- 普通中等专业学校数: double (nullable = true)\n",
      " |-- 成人中等专业学校数: double (nullable = true)\n",
      " |-- features: vector (nullable = true)\n",
      "\n"
     ]
    }
   ],
   "source": [
    "from pyspark.ml.linalg import Vector\n",
    "from pyspark.ml.feature import VectorAssembler\n",
    "\n",
    "vec = VectorAssembler(inputCols=['教职工总数', '普通中等专业学校数'], outputCol='features')\n",
    "features_df = vec.transform(df)\n",
    "features_df.printSchema()"
   ]
  },
  {
   "cell_type": "code",
   "execution_count": 7,
   "metadata": {
    "ExecuteTime": {
     "end_time": "2022-06-01T07:19:18.353188Z",
     "start_time": "2022-06-01T07:19:17.506483Z"
    }
   },
   "outputs": [
    {
     "name": "stdout",
     "output_type": "stream",
     "text": [
      "+----------------+--------+\n",
      "|features        |招生数  |\n",
      "+----------------+--------+\n",
      "|[97.3431,3846.0]|650.2739|\n",
      "|[96.9477,3789.0]|711.777 |\n",
      "|[95.6631,3938.0]|711.3957|\n",
      "|[94.5081,3753.0]|649.9626|\n",
      "|[92.1332,3681.0]|597.0785|\n",
      "|[88.3959,3577.0]|541.2624|\n",
      "|[86.6905,3536.0]|495.3553|\n",
      "|[84.1495,3456.0]|479.8174|\n",
      "|[82.1047,3398.0]|466.1428|\n",
      "|[81.1147,3346.0]|451.5235|\n",
      "|[79.9593,3322.0]|428.5024|\n",
      "|[80.1482,3339.0]|457.4121|\n",
      "|[80.3752,3266.0]|484.6056|\n",
      "+----------------+--------+\n",
      "\n"
     ]
    }
   ],
   "source": [
    "model_df = features_df.select('features','招生数')\n",
    "model_df.show(13, False)"
   ]
  },
  {
   "cell_type": "markdown",
   "metadata": {},
   "source": [
    "## 划分数据集"
   ]
  },
  {
   "cell_type": "code",
   "execution_count": 8,
   "metadata": {
    "ExecuteTime": {
     "end_time": "2022-06-01T07:19:23.032743Z",
     "start_time": "2022-06-01T07:19:22.192325Z"
    }
   },
   "outputs": [
    {
     "name": "stdout",
     "output_type": "stream",
     "text": [
      "(10, 2)\n"
     ]
    }
   ],
   "source": [
    "train_df, test_df = model_df.randomSplit([0.7, 0.3])\n",
    "print((train_df.count(), len(train_df.columns)))"
   ]
  },
  {
   "cell_type": "code",
   "execution_count": 9,
   "metadata": {
    "ExecuteTime": {
     "end_time": "2022-06-01T07:19:25.027214Z",
     "start_time": "2022-06-01T07:19:24.690310Z"
    }
   },
   "outputs": [
    {
     "data": {
      "text/plain": [
       "[Row(features=DenseVector([80.1482, 3339.0]), 招生数=457.4121),\n",
       " Row(features=DenseVector([80.3752, 3266.0]), 招生数=484.6056),\n",
       " Row(features=DenseVector([81.1147, 3346.0]), 招生数=451.5235),\n",
       " Row(features=DenseVector([82.1047, 3398.0]), 招生数=466.1428),\n",
       " Row(features=DenseVector([84.1495, 3456.0]), 招生数=479.8174)]"
      ]
     },
     "execution_count": 9,
     "metadata": {},
     "output_type": "execute_result"
    }
   ],
   "source": [
    "train_df.head(5)"
   ]
  },
  {
   "cell_type": "markdown",
   "metadata": {},
   "source": [
    "## 构建和训练线性回归模型\n",
    "- 使用r^2来评估线性回归模型在训练数据上的性能。"
   ]
  },
  {
   "cell_type": "code",
   "execution_count": 10,
   "metadata": {
    "ExecuteTime": {
     "end_time": "2022-06-01T07:19:30.162646Z",
     "start_time": "2022-06-01T07:19:27.903089Z"
    }
   },
   "outputs": [
    {
     "data": {
      "text/plain": [
       "DenseVector([36.0715, -0.7574])"
      ]
     },
     "execution_count": 10,
     "metadata": {},
     "output_type": "execute_result"
    }
   ],
   "source": [
    "from pyspark.ml.regression import LinearRegression\n",
    "lin_reg = LinearRegression(featuresCol='features',labelCol='招生数')\n",
    "lr_model = lin_reg.fit(train_df)\n",
    "lr_model.coefficients"
   ]
  },
  {
   "cell_type": "code",
   "execution_count": 11,
   "metadata": {
    "ExecuteTime": {
     "end_time": "2022-06-01T07:19:31.836236Z",
     "start_time": "2022-06-01T07:19:31.807113Z"
    }
   },
   "outputs": [
    {
     "name": "stdout",
     "output_type": "stream",
     "text": [
      "方程截距:68.42549825856315\n",
      "方程参数系数:[36.07146182582057,-0.7574467456407157]\n"
     ]
    }
   ],
   "source": [
    "print('{}{}'.format('方程截距:',lr_model.intercept))  #查看训练后线性方程的截距，模型中的intercept\n",
    "print('{}{}'.format('方程参数系数:',lr_model.coefficients))  # 回归方程中的中5个自变量的系数"
   ]
  },
  {
   "cell_type": "markdown",
   "metadata": {},
   "source": [
    "## 预测评估\n",
    "- 以`'教职工总数', '普通中等专业学校数'`为输入变量"
   ]
  },
  {
   "cell_type": "code",
   "execution_count": 12,
   "metadata": {
    "ExecuteTime": {
     "end_time": "2022-06-01T07:19:36.821648Z",
     "start_time": "2022-06-01T07:19:35.830304Z"
    }
   },
   "outputs": [
    {
     "name": "stdout",
     "output_type": "stream",
     "text": [
      "训练集R2判定系数：0.9721166799817282\n",
      "预测集R2判定系数：0.24054479703726783\n",
      "均方误差:230.1331043510782\n"
     ]
    }
   ],
   "source": [
    "#通过R2判定系数，评估模型的拟合程度，其值越接近1说明模型有较高的价值\n",
    "train_p = lr_model.evaluate(train_df)\n",
    "print('{}{}'.format('训练集R2判定系数：',train_p.r2 ))\n",
    "test_p = lr_model.evaluate(test_df)\n",
    "print('{}{}'.format('预测集R2判定系数：',test_p.r2 ))\n",
    "#通过均方误差meanSquaredError评估估值的准确性\n",
    "print('{}{}'.format('均方误差:',train_p.meanSquaredError))"
   ]
  },
  {
   "cell_type": "code",
   "execution_count": 13,
   "metadata": {
    "ExecuteTime": {
     "end_time": "2022-06-01T07:19:40.169633Z",
     "start_time": "2022-06-01T07:19:39.446584Z"
    }
   },
   "outputs": [
    {
     "name": "stdout",
     "output_type": "stream",
     "text": [
      "[Row(features=DenseVector([79.9593, 3322.0]), 招生数=428.5024, prediction=436.43624680944015), Row(features=DenseVector([92.1332, 3681.0]), 招生数=597.0785, prediction=603.6432342457803), Row(features=DenseVector([95.6631, 3938.0]), 招生数=711.3957, prediction=536.3080737150805)]\n",
      "+----------------+--------+------------------+\n",
      "|        features|  招生数|        prediction|\n",
      "+----------------+--------+------------------+\n",
      "|[79.9593,3322.0]|428.5024|436.43624680944015|\n",
      "|[92.1332,3681.0]|597.0785| 603.6432342457803|\n",
      "|[95.6631,3938.0]|711.3957| 536.3080737150805|\n",
      "+----------------+--------+------------------+\n",
      "\n",
      "None\n"
     ]
    }
   ],
   "source": [
    "#预测结果与真实结果对比\n",
    "predictions = lr_model.transform(test_df)\n",
    "print (predictions.collect())\n",
    "print (predictions.show())"
   ]
  },
  {
   "cell_type": "markdown",
   "metadata": {},
   "source": [
    "## 模型封装"
   ]
  },
  {
   "cell_type": "code",
   "execution_count": 3,
   "metadata": {
    "ExecuteTime": {
     "end_time": "2022-06-01T07:22:02.614932Z",
     "start_time": "2022-06-01T07:22:02.595632Z"
    }
   },
   "outputs": [],
   "source": [
    "from pyspark.sql import SparkSession\n",
    "from pyspark.ml.linalg import Vector\n",
    "from pyspark.ml.feature import VectorAssembler\n",
    "from pyspark.ml.regression import LinearRegression\n",
    "import pandas as pd\n",
    "\n",
    "def Get_Session():\n",
    "    return SparkSession.builder.appName('analysis').getOrCreate()\n",
    "def LR_Go(saprk,inputcols,labelcol):\n",
    "    # 数据导入\n",
    "    df = saprk.read.csv(\"hdfs://master:9000/home/hadoop/data/edu/GeneralData.csv\", inferSchema=True, header = True)\n",
    "    # 特征工程：输入特征合并为单变量\n",
    "    vec = VectorAssembler(inputCols=inputcols, outputCol='features')\n",
    "    features_df = vec.transform(df)\n",
    "    model_df = features_df.select('features',labelcol)\n",
    "    # 数据集划分\n",
    "    train_df, test_df = model_df.randomSplit([0.7, 0.3],seed=123)\n",
    "    # 模型训练\n",
    "    lin_reg = LinearRegression(featuresCol='features',labelCol=labelcol)\n",
    "    lr_model = lin_reg.fit(train_df)\n",
    "    # 模型预测\n",
    "    predictions = lr_model.transform(test_df)\n",
    "    # 模型评估\n",
    "    train_p = lr_model.evaluate(train_df)\n",
    "    test_p = lr_model.evaluate(test_df)\n",
    "    print('{}{}'.format('训练集R2判定系数：',train_p.r2 ))\n",
    "    print('{}{}'.format('均方误差:',train_p.meanSquaredError))\n",
    "    print('{}{}'.format('预测集R2判定系数：',test_p.r2 ))\n",
    "    # 结果保存\n",
    "#     GO = predictions.toPandas()\n",
    "#     GO.to_csv('Predictions.csv')\n",
    "    print (predictions.show())\n",
    "sess = Get_Session()"
   ]
  },
  {
   "cell_type": "code",
   "execution_count": 4,
   "metadata": {
    "ExecuteTime": {
     "end_time": "2022-06-01T07:22:09.537653Z",
     "start_time": "2022-06-01T07:22:06.246839Z"
    }
   },
   "outputs": [
    {
     "name": "stdout",
     "output_type": "stream",
     "text": [
      "训练集R2判定系数：0.9815928677261894\n",
      "均方误差:174.14846474051734\n",
      "预测集R2判定系数：0.9717173396117535\n",
      "+--------------------+--------+-----------------+\n",
      "|            features|  招生数|       prediction|\n",
      "+--------------------+--------+-----------------+\n",
      "|[1254.2893,406.3981]|451.5235|464.1651953832783|\n",
      "|[1416.3127,516.1519]|495.3553|497.0250703650671|\n",
      "|  [1689.882,554.384]|597.0785|620.5222275601685|\n",
      "|[1816.4447,543.6524]|711.3957|690.7980593769042|\n",
      "+--------------------+--------+-----------------+\n",
      "\n",
      "None\n"
     ]
    }
   ],
   "source": [
    "LR_Go(sess,['在校学生数', '毕业生数'],'招生数')"
   ]
  }
 ],
 "metadata": {
  "kernelspec": {
   "display_name": "Python 3",
   "language": "python",
   "name": "python3"
  },
  "language_info": {
   "codemirror_mode": {
    "name": "ipython",
    "version": 3
   },
   "file_extension": ".py",
   "mimetype": "text/x-python",
   "name": "python",
   "nbconvert_exporter": "python",
   "pygments_lexer": "ipython3",
   "version": "3.7.3"
  },
  "toc": {
   "base_numbering": 1,
   "nav_menu": {},
   "number_sections": true,
   "sideBar": true,
   "skip_h1_title": false,
   "title_cell": "Table of Contents",
   "title_sidebar": "Contents",
   "toc_cell": false,
   "toc_position": {
    "height": "calc(100% - 180px)",
    "left": "10px",
    "top": "150px",
    "width": "248.352px"
   },
   "toc_section_display": true,
   "toc_window_display": true
  }
 },
 "nbformat": 4,
 "nbformat_minor": 4
}
